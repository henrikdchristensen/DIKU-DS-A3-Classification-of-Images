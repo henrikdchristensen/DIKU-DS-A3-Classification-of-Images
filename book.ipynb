{
 "cells": [
  {
   "cell_type": "markdown",
   "metadata": {},
   "source": [
    "# Exercise 3: Learning from Data\n",
    "\n",
    "In this exercise, you will train different types of regression and classification models on two datasets.<br/>\n",
    "You will be graded based on a combination of your code producing the expected results,<br/>\n",
    "your written responses to the questions and a passing leaderboard score in the final exercise."
   ]
  },
  {
   "cell_type": "markdown",
   "metadata": {},
   "source": [
    "## Libraries used"
   ]
  },
  {
   "cell_type": "code",
   "execution_count": 1,
   "metadata": {},
   "outputs": [],
   "source": [
    "from enum import Enum\n",
    "import numpy as np\n",
    "import matplotlib.pyplot as plt\n",
    "from sklearn import datasets\n",
    "from sklearn.linear_model import LinearRegression, LogisticRegression\n",
    "from sklearn.model_selection import train_test_split, GridSearchCV\n",
    "from sklearn.metrics import mean_squared_error, accuracy_score\n",
    "from scipy import ndimage as ndi"
   ]
  },
  {
   "cell_type": "markdown",
   "metadata": {},
   "source": [
    "### 3.1 Linear / Logistic Regression for digit recognition\n",
    "\n",
    "In this part you will experiment with two different types of prediction models, and qualitatively + quantitatively compare them.<br/>\n",
    "You will be working with the classic MNIST dataset, which we can load from `sklearn.datasets`."
   ]
  },
  {
   "cell_type": "code",
   "execution_count": 2,
   "metadata": {},
   "outputs": [],
   "source": [
    "# Load dataset\n",
    "digits = datasets.load_digits()\n",
    "X = digits.images\n",
    "y = digits.target\n",
    "\n",
    "# https://scikit-learn.org/stable/modules/generated/sklearn.datasets.load_digits.html\n",
    "# Returns an Bunch data-structure:\n",
    "#  - target: classification target [ndarray of shape (1797,)]\n",
    "#  - images: raw image data [ndarray of shape (1797, 8, 8)]"
   ]
  },
  {
   "cell_type": "markdown",
   "metadata": {},
   "source": [
    "Here we plot the first few digits and their labels. Apparently they are in order, but our upcoming models will not rely on this."
   ]
  },
  {
   "cell_type": "code",
   "execution_count": 3,
   "metadata": {},
   "outputs": [
    {
     "data": {
      "image/png": "[encoded data removed]",
      "text/plain": [
       "<Figure size 1500x300 with 12 Axes>"
      ]
     },
     "metadata": {},
     "output_type": "display_data"
    }
   ],
   "source": [
    "# Create a single row with 12 subplots of equal size\n",
    "_, axes = plt.subplots(nrows=1, ncols=12, figsize=(15, 3))\n",
    "# zip() takes iterables (sets), combine them in a tuple, and returns it.\n",
    "# we plot each of the digits in the subplots\n",
    "for ax, image, label in zip(axes, X, y):\n",
    "    ax.set_axis_off()\n",
    "    ax.imshow(image, cmap=plt.cm.gray_r, interpolation=\"nearest\")\n",
    "    ax.set_title(\"Label: %i\" % label)"
   ]
  },
  {
   "cell_type": "markdown",
   "metadata": {},
   "source": [
    "### A: Warmup Exercise\n",
    "\n",
    "Use the `train_test_split` function from `sklearn.model_selection` twice to split the data into train, validation, and test sets,<br/>\n",
    "with a distribution of 80%, 10%, and 10% respectively. Use `random_state=0` for reproducibility.<br/>\n",
    "Check out the documentation to figure out how to set the parameters to get the desired split. "
   ]
  },
  {
   "cell_type": "code",
   "execution_count": 4,
   "metadata": {},
   "outputs": [],
   "source": [
    "# Split dataset in 80:10:10 for train:vali:test dataset\n",
    "train_size = 0.8\n",
    "vali_test_size = 0.5 # split the remaining set 50/50. Meaning 10% each of the remaining set.\n",
    "\n",
    "# Split dataset into train and remaining set\n",
    "X_train, X_rem, y_train, y_rem = train_test_split(digits.data, digits.target, train_size=train_size, random_state=0)\n",
    "\n",
    "# Split remaining set into vali and test set\n",
    "X_vali, X_test, y_vali, y_test = train_test_split(X_rem, y_rem, test_size=vali_test_size, random_state=0)"
   ]
  },
  {
   "cell_type": "markdown",
   "metadata": {},
   "source": [
    "<ins>Comment</ins>:\n",
    "\n",
    "We use the train_test_split function twice, first to split the data into a training set and a remaining set,<br/>\n",
    "with a training size of 0.8 (=80%), and then to split the remaining set into a validation- and a test set,<br/>\n",
    "with a test size of 0.5 (meaning 10% each). We use the random_state parameter with a value of 0 to ensure reproducibility of the split.<br/>\n",
    "Finally, we print the sizes of the resulting train, validation, and test sets."
   ]
  },
  {
   "cell_type": "markdown",
   "metadata": {},
   "source": [
    "Now let's check out the returned training data, which is of the type `numpy.ndarray`, which you might have seen already.<br/>\n",
    "We want to make sure the classes are balanced, e.g. we don't have a lot more 4's than 5's.\n",
    " - How many images do we have for the train, validation, and test sets?\n",
    " - What is the distribution of the training labels? Comment on whether the classes are balanced."
   ]
  },
  {
   "cell_type": "code",
   "execution_count": 5,
   "metadata": {},
   "outputs": [
    {
     "name": "stdout",
     "output_type": "stream",
     "text": [
      "Number of images:\n",
      " - Total: 1797\n",
      " - Training: 1437\n",
      " - Validation: 180\n",
      " - Test: 180\n",
      "\n",
      "Class 0: 151 images (10.51% of all)\n",
      "Class 1: 147 images (10.23% of all)\n",
      "Class 2: 141 images (9.81% of all)\n",
      "Class 3: 154 images (10.72% of all)\n",
      "Class 4: 151 images (10.51% of all)\n",
      "Class 5: 142 images (9.88% of all)\n",
      "Class 6: 137 images (9.53% of all)\n",
      "Class 7: 140 images (9.74% of all)\n",
      "Class 8: 135 images (9.39% of all)\n",
      "Class 9: 139 images (9.67% of all)\n",
      "\n",
      "The classes in the training set are balanced.\n",
      "\n",
      "          The difference between min. and max. percentage is 1.32%.\n"
     ]
    }
   ],
   "source": [
    "# Print number of images in each set\n",
    "print(\"Number of images:\")\n",
    "print(f\" - Total: {len(y)}\")\n",
    "print(f\" - Training: {y_train.shape[0]}\")\n",
    "print(f\" - Validation: {y_vali.shape[0]}\")\n",
    "print(f\" - Test: {y_test.shape[0]}\\n\")\n",
    "\n",
    "# Count frequency of each class in training set\n",
    "class_counts = np.unique(y_train, return_counts=True)\n",
    "for label, count in zip(class_counts[0], class_counts[1]):\n",
    "    percentage = count/y_train.shape[0] * 100\n",
    "    print(f\"Class {label}: {count} images ({percentage:.2f}% of all)\")\n",
    "\n",
    "# Check if the classes in training set are balanced\n",
    "tolerance_percentage = 5 \n",
    "min_percentage = np.min(class_counts[1]) / y_train.shape[0] * 100\n",
    "max_percentage = np.max(class_counts[1]) / y_train.shape[0] * 100\n",
    "if abs(max_percentage - min_percentage) <= tolerance_percentage:\n",
    "    print(f\"\"\"\\nThe classes in the training set are balanced.\\n\n",
    "          The difference between min. and max. percentage is {abs(min_percentage-max_percentage):.2f}%.\"\"\")\n",
    "else:\n",
    "    print(f\"\"\"\\nThe classes in the training set are NOT balanced.\\n\n",
    "          The difference between min. and max. percentage is {abs(min_percentage-max_percentage):.2f}%.\"\"\")"
   ]
  },
  {
   "cell_type": "markdown",
   "metadata": {},
   "source": [
    "<ins>Comment</ins>:\n",
    "- The number of images can be seen above.\n",
    "- The classes are almost balanced."
   ]
  },
  {
   "cell_type": "markdown",
   "metadata": {},
   "source": [
    "### B: Programming Exercise\n",
    "\n",
    "Let's build a model that learns to predict the digit given the image. We'll first try our hand at linear regression.<br/>\n",
    "We will use the `LinearRegression` class from `sklearn.linear_model`. Again, check out the documentation on how to use it.<br/>\n",
    "We will use the `fit` method to train the model, and the `predict` method to make predictions on the test set.<br/>\n",
    "Afterwards, evaluate the model using functions from `sklearn.metrics` module."
   ]
  },
  {
   "cell_type": "code",
   "execution_count": 6,
   "metadata": {},
   "outputs": [
    {
     "name": "stdout",
     "output_type": "stream",
     "text": [
      "LinearRegression MSE:  3.004985641346828\n",
      "LinearRegression accuracy:  0.22777777777777777\n"
     ]
    },
    {
     "data": {
      "image/png": "[encoded data removed]",
      "text/plain": [
       "<Figure size 1000x300 with 10 Axes>"
      ]
     },
     "metadata": {},
     "output_type": "display_data"
    }
   ],
   "source": [
    "# Define model\n",
    "model = LinearRegression()\n",
    "\n",
    "# Fit model\n",
    "model.fit(X_train, y_train)\n",
    "\n",
    "# Normally tuning hyperparameters will be done here of the validation set.\n",
    "# But the `LinearRegression` doesn't have hyperparameters to tune.\n",
    "\n",
    "# Make predictions on test set\n",
    "y_pred = model.predict(X_test)\n",
    "\n",
    "# Calculate Mean Squared Error (MSE) and Accuracy\n",
    "mse = mean_squared_error(y_test, y_pred)\n",
    "acc = accuracy_score(y_test, np.round(y_pred))\n",
    "\n",
    "# DO NOT INSERT OR CHANGE ANYTHING BELOW\n",
    "print(\"LinearRegression MSE: \", mse)\n",
    "print(\"LinearRegression accuracy: \", acc)\n",
    "\n",
    "_, axes = plt.subplots(nrows=1, ncols=10, figsize=(10, 3))\n",
    "for ax, image, prediction in zip(axes, X_test, y_pred):\n",
    "    ax.set_axis_off()\n",
    "    image = image.reshape(8, 8)\n",
    "    ax.imshow(image, cmap=plt.cm.gray_r, interpolation=\"nearest\")\n",
    "    ax.set_title(\"%i\" % prediction)"
   ]
  },
  {
   "cell_type": "markdown",
   "metadata": {},
   "source": [
    "### C: Programming Exercise\n",
    "\n",
    "Now, let's model the task differently.\n",
    "You will use the `LogisticRegression`, again included in the module `sklearn.linear_model`, and again,<br/>\n",
    "check out the documentation to see how to use it. Fit the model and make predictions on the test set. \n",
    "\n",
    "You are asked to produce output with the same structure as in the above programming exercise (two printouts and one image),<br/>\n",
    "but for a different model this time."
   ]
  },
  {
   "cell_type": "code",
   "execution_count": 7,
   "metadata": {},
   "outputs": [
    {
     "name": "stdout",
     "output_type": "stream",
     "text": [
      "LogisticRegression MSE:  1.1388888888888888\n",
      "LogisticRegression accuracy:  0.9611111111111111\n"
     ]
    },
    {
     "data": {
      "image/png": "[encoded data removed]",
      "text/plain": [
       "<Figure size 1000x300 with 10 Axes>"
      ]
     },
     "metadata": {},
     "output_type": "display_data"
    }
   ],
   "source": [
    "# Define model\n",
    "model = LogisticRegression(random_state=0, max_iter=5000) # set random_state=0, to get same results.\n",
    "\n",
    "# Fit model\n",
    "model.fit(X_train, y_train)\n",
    "\n",
    "# Make predictions on test set\n",
    "y_pred = model.predict(X_test)\n",
    "\n",
    "# Normally tuning hyperparameters will be done here of the validation set.\n",
    "# But the `LinearRegression` doesn't have hyperparameters to tune.\n",
    "\n",
    "# Calculate Mean Squared Error (MSE) and Accuracy\n",
    "mse = mean_squared_error(y_test, y_pred)\n",
    "acc = accuracy_score(y_test, np.round(y_pred))\n",
    "\n",
    "# DO NOT INSERT OR CHANGE ANYTHING BELOW\n",
    "print(\"LogisticRegression MSE: \", mse)\n",
    "print(\"LogisticRegression accuracy: \", acc)\n",
    "\n",
    "# Plot some test images with their predicted labels:\n",
    "_, axes = plt.subplots(nrows=1, ncols=10, figsize=(10, 3))\n",
    "for ax, image, prediction in zip(axes, X_test, y_pred):\n",
    "    ax.set_axis_off()\n",
    "    image = image.reshape(8, 8)\n",
    "    ax.imshow(image, cmap=plt.cm.gray_r, interpolation=\"nearest\")\n",
    "    ax.set_title(\"%i\" % prediction)"
   ]
  },
  {
   "cell_type": "markdown",
   "metadata": {},
   "source": [
    "### Written Questions"
   ]
  },
  {
   "cell_type": "markdown",
   "metadata": {},
   "source": [
    "1a) Describe the trends you observe in the results. Is there anything interesting or unexpected? \n",
    "\n",
    "1b) How do the results compare to the linear regression model? \n",
    "\n",
    "1c) What do you think is the reason for this?"
   ]
  },
  {
   "cell_type": "markdown",
   "metadata": {
    "tags": []
   },
   "source": [
    "#### Answers:\n",
    "\n",
    "1a) The results show that the LogisticRegression model has significantly better performance than the LinearRegression model.<br/>\n",
    "The MSE (mean squared error) for the LogisticRegression model is much lower than that of the LinearRegression model (1.14 vs. 3.00),<br/>\n",
    "and the accuracy of the LogisticRegression model is much higher (96.1% vs. 22.7%) than that of the LinearRegression model.<br/>\n",
    "NOTE: Max. iterations was needed to be set to >3000, otherwise it was stopping processing the images.\n",
    "\n",
    "1b) The results show that the LogisticRegression model outperforms the LinearRegression model in terms of both MSE and accuracy.\n",
    "\n",
    "1c) The reason for the better performance of the LogisticRegression model is that it is specifically designed<br/>\n",
    "for binary classification tasks, while LinearRegression is not. LogisticRegression models the probability of<br/>\n",
    "the outcome variable being in one of the two possible classes based on the input variables, while LinearRegression models<br/>\n",
    "the relationship between the input variables and the continuous outcome variable.<br/>\n",
    "In other words, the logistic regression model is better suited to the binary classification task at hand."
   ]
  },
  {
   "cell_type": "markdown",
   "metadata": {
    "tags": []
   },
   "source": [
    "#### Answers:\n",
    "\n",
    "1a) The results show that the LogisticRegression model has significantly better performance than the LinearRegression model.<br/>\n",
    "The MSE (mean squared error) for the LogisticRegression model is much lower than that of the LinearRegression model (1.14 vs. 3.00),<br/>\n",
    "and the accuracy of the LogisticRegression model is much higher (96.1% vs. 22.7%) than that of the LinearRegression model.<br/>\n",
    "NOTE: Max. iterations was needed to be set to >3000, otherwise it was stopping processing the images.\n",
    "\n",
    "1b) The results show that the LogisticRegression model outperforms the LinearRegression model in terms of both MSE and accuracy.\n",
    "\n",
    "1c) The reason for the better performance of the LogisticRegression model is that it is specifically designed<br/>\n",
    "for binary classification tasks, while LinearRegression is not. LogisticRegression models the probability of<br/>\n",
    "the outcome variable being in one of the two possible classes based on the input variables, while LinearRegression models<br/>\n",
    "the relationship between the input variables and the continuous outcome variable.<br/>\n",
    "In other words, the logistic regression model is better suited to the binary classification task at hand."
   ]
  },
  {
   "cell_type": "markdown",
   "metadata": {},
   "source": [
    "## Exercise 3.2: Counting stars"
   ]
  },
  {
   "cell_type": "markdown",
   "metadata": {},
   "source": [
    "Your team is tasked with applying data science and machine learning techniques to some recently collected telescope image data.<br/>\n",
    "The telescope takes low resolution images, in which stars either appear as squares or circles.<br/>\n",
    "Your task is to train a classifier to determine whether there are more circular stars than square stars in each image.<br/>\n",
    "The budget is tight this year so there are no resources available to train expensive deep neural networks;<br/>\n",
    "you will need to train a linear or logistic regression classifier instead.\n",
    "\n",
    "You are encouraged to be creative, and to try out different things empirically, too.<br/>\n",
    "Preprocessing could be crucial to the success of your model. Good luck!\n",
    "\n",
    "Below is a sample of the data you'll be working with. Above each image is the label, which shows the number of circular and square stars, respectively.<br/>\n",
    "We do not count the small noisy background stars. \n",
    "\n",
    "![](sample.png)"
   ]
  },
  {
   "cell_type": "markdown",
   "metadata": {},
   "source": [
    "### D: Programming Exercise\n",
    "\n",
    "1. Create an account on Kaggle to collect the data https://www.kaggle.com/competitions/ds2023-counting-stars/.<br/>Use your real name, or tell us your Kaggle username, so we can grade you.\n",
    "2. Download the training data from https://www.kaggle.com/competitions/ds2023-counting-stars/data.<br/>Check out the Dataset Description for more information about the data and your task.\n",
    "3. Load the training data file `stars_train_X_y.npz` and split it into `train`, `val`, and `test` splits.\n",
    "4. Use a linear or logistic regression model to fit the `train` data. Use the `val` and `test` splits<br/>for model selection and hyperparameter optimization. (You should measure performance using accuracy)."
   ]
  },
  {
   "cell_type": "markdown",
   "metadata": {},
   "source": [
    "stars_train_X_y.npz - labeled set of data, consisting of previously received and hand-labeled photos from Voyager 1.\n",
    "\n",
    "stars_test_X.npz - unlabeled set of images, it's your job to tell us, for each image, whether there are more circular stars than square stars or not."
   ]
  },
  {
   "cell_type": "markdown",
   "metadata": {},
   "source": [
    "#### Kaggle Username: HenrikDC"
   ]
  },
  {
   "cell_type": "markdown",
   "metadata": {},
   "source": [
    "#### Helper functions"
   ]
  },
  {
   "cell_type": "code",
   "execution_count": 8,
   "metadata": {},
   "outputs": [],
   "source": [
    "class Shape(Enum):\n",
    "    Squares = 1\n",
    "    Circles = 2"
   ]
  },
  {
   "cell_type": "code",
   "execution_count": 9,
   "metadata": {},
   "outputs": [],
   "source": [
    "def transform_to_1d(x):\n",
    "    return x.reshape((4096,))"
   ]
  },
  {
   "cell_type": "code",
   "execution_count": 10,
   "metadata": {},
   "outputs": [],
   "source": [
    "def transform_to_2d(x):\n",
    "    return x.reshape((64,64))"
   ]
  },
  {
   "cell_type": "code",
   "execution_count": 11,
   "metadata": {},
   "outputs": [],
   "source": [
    "def show_img(x, y):\n",
    "    x1 = np.copy(x)\n",
    "    y1 = np.copy(y)\n",
    "    fig, axs = plt.subplots(2, 2, figsize=(8, 8))\n",
    "    axs[0, 0].imshow(transform_to_2d(x1), cmap='gray')\n",
    "    axs[0, 0].set_title(\"Original Image\")\n",
    "    axs[0, 1].imshow(transform_to_2d(np.add(get_shape(x1, Shape.Circles), get_shape(x1, Shape.Squares))), cmap='gray')\n",
    "    axs[0, 1].set_title(\"Circles and Squares\")\n",
    "    axs[1, 0].imshow(transform_to_2d(get_shape(x1, Shape.Circles)), cmap='gray')\n",
    "    axs[1, 0].set_title(\"Circles only\")\n",
    "    axs[1, 1].imshow(transform_to_2d(get_shape(x1, Shape.Squares)), cmap='gray')\n",
    "    axs[1, 1].set_title(\"Squares only\")\n",
    "    plt.suptitle(f\"circles: {int(y[0])}, squares: {int(y[1])}\")\n",
    "    plt.show()"
   ]
  },
  {
   "cell_type": "code",
   "execution_count": 12,
   "metadata": {},
   "outputs": [],
   "source": [
    "def remove_values(x, shape: Shape):\n",
    "    if shape == Shape.Circles:\n",
    "        x[x == Shape.Squares.value] = 0\n",
    "    elif shape == Shape.Squares:\n",
    "        x[x == Shape.Circles.value] = 0\n",
    "    return x"
   ]
  },
  {
   "cell_type": "code",
   "execution_count": 13,
   "metadata": {},
   "outputs": [],
   "source": [
    "def remove_small_features(w):\n",
    "    # Label features\n",
    "    labeled, num_features = ndi.label(w)\n",
    "    # Loop over all features\n",
    "    for i in range(1, num_features+1):\n",
    "        mask = labeled == i\n",
    "        size = np.sum(mask)\n",
    "        # Remove small features\n",
    "        if size < 4:\n",
    "            w[mask] = 0\n",
    "    return w"
   ]
  },
  {
   "cell_type": "code",
   "execution_count": 14,
   "metadata": {},
   "outputs": [],
   "source": [
    "def get_shape(x, shape:Shape):\n",
    "    w = np.copy(x)\n",
    "    w = transform_to_2d(w)\n",
    "    w = remove_values(w, shape)\n",
    "    w = remove_small_features(w)\n",
    "    w = transform_to_1d(w)\n",
    "    return w"
   ]
  },
  {
   "cell_type": "markdown",
   "metadata": {},
   "source": [
    "#### Load data"
   ]
  },
  {
   "cell_type": "code",
   "execution_count": 15,
   "metadata": {},
   "outputs": [],
   "source": [
    "data = np.load('data/stars_train_X_y.npz')\n",
    "X = data['X_train']\n",
    "y = data['y_train']"
   ]
  },
  {
   "cell_type": "markdown",
   "metadata": {},
   "source": [
    "#### Idea\n",
    "Make two regression models one for circles and one for squares and compare the number of found afterwards."
   ]
  },
  {
   "cell_type": "markdown",
   "metadata": {},
   "source": [
    "##### Showcase of idea"
   ]
  },
  {
   "cell_type": "code",
   "execution_count": 16,
   "metadata": {},
   "outputs": [
    {
     "data": {
      "image/png": "[encoded data removed]",
      "text/plain": [
       "<Figure size 800x800 with 4 Axes>"
      ]
     },
     "metadata": {},
     "output_type": "display_data"
    }
   ],
   "source": [
    "idx = 42\n",
    "show_img(X[idx], y[idx])"
   ]
  },
  {
   "cell_type": "markdown",
   "metadata": {},
   "source": [
    "<ins>Comment</ins>:\n",
    "\n",
    "As can be seen above we are able to remove the noise and splitting circles and squares into separate images (datasets)."
   ]
  },
  {
   "cell_type": "markdown",
   "metadata": {},
   "source": [
    "#### Split data"
   ]
  },
  {
   "cell_type": "code",
   "execution_count": 17,
   "metadata": {},
   "outputs": [],
   "source": [
    "# Split dataset in 80:10:10 for train:vali:test dataset\n",
    "train_size = 0.8\n",
    "vali_test_size = 0.5 # split the remaining set 50/50. Meaning 10% each of the remaining set.\n",
    "\n",
    "X_train, X_rem, y_train, y_rem = train_test_split(X, y, train_size=train_size, random_state=0)\n",
    "X_vali, X_test, y_vali, y_test = train_test_split(X_rem, y_rem, test_size=vali_test_size, random_state=0)\n",
    "\n",
    "# Make copies of the datasets for both models\n",
    "X_c_train = np.copy(X_train)\n",
    "y_c_train = np.copy(y_train[:,0])\n",
    "\n",
    "X_s_train = np.copy(X_train)\n",
    "y_s_train = np.copy(y_train[:,1])\n",
    "\n",
    "X_c_vali = np.copy(X_vali)\n",
    "y_c_vali = np.copy(y_vali[:,0])\n",
    "X_s_vali = np.copy(X_vali)\n",
    "y_s_vali = np.copy(y_vali[:,1])\n",
    "\n",
    "X_c_test = np.copy(X_test)\n",
    "y_c_test = np.copy(y_test[:,0])\n",
    "X_s_test = np.copy(X_test)\n",
    "y_s_test = np.copy(y_test[:,1])\n",
    "\n",
    "# Get two separated images with circles in the one and squares in the other\n",
    "for i in range(len(X_train)):\n",
    "    X_c_train[i] = get_shape(X_c_train[i], Shape.Circles)\n",
    "    X_s_train[i] = get_shape(X_s_train[i], Shape.Squares)\n",
    "for i in range(len(X_vali)):\n",
    "    X_c_vali[i] = get_shape(X_c_vali[i], Shape.Circles)\n",
    "    X_s_vali[i] = get_shape(X_s_vali[i], Shape.Squares)\n",
    "for i in range(len(X_test)):\n",
    "    X_c_test[i] = get_shape(X_c_test[i], Shape.Circles)\n",
    "    X_s_test[i] = get_shape(X_s_test[i], Shape.Squares)\n",
    "\n",
    "# True values\n",
    "y_c_test_true = y_test[:,0].astype(int)\n",
    "y_s_test_true = y_test[:,1].astype(int)\n",
    "y_test_true = y_c_test_true > y_s_test_true"
   ]
  },
  {
   "cell_type": "markdown",
   "metadata": {},
   "source": [
    "#### Linear regression model"
   ]
  },
  {
   "cell_type": "code",
   "execution_count": 23,
   "metadata": {},
   "outputs": [
    {
     "name": "stdout",
     "output_type": "stream",
     "text": [
      "LinearRegression: Circles, MSE: 1.2829718889535326\n",
      "LinearRegression: Squares, MSE: 1.7983998080700547\n",
      "LinearRegression: Total, MSE: 0.065, accuracy: 0.935\n"
     ]
    }
   ],
   "source": [
    "# Define model, fit and make predictions for Circles\n",
    "model_c = LinearRegression(n_jobs=-1) # n_jobs=-1: run on all processors\n",
    "model_c.fit(X_c_train, y_c_train)\n",
    "y_c_test_pred = model_c.predict(X_c_test)\n",
    "\n",
    "# Define model, fit and make predictions for Squares\n",
    "model_s = LinearRegression(n_jobs=-1) # n_jobs=-1: run on all processors\n",
    "model_s.fit(X_s_train, y_s_train)\n",
    "y_s_test_pred = model_s.predict(X_s_test)\n",
    "\n",
    "# Compare the predictions and create a new boolean array where True means \"more circles than squares\"\n",
    "y_test_pred = np.where(y_c_test_pred > y_s_test_pred, 1, 0)\n",
    "\n",
    "# Make predictions for true values as floats,\n",
    "# otherwise comparing cannot be done with predictions which are given as floats\n",
    "y_c_test_true = y_c_test_true.astype(float)\n",
    "y_s_test_true = y_s_test_true.astype(float)\n",
    "\n",
    "# Calculate MSE and accuracy\n",
    "mse_c = mean_squared_error(y_c_test_true, y_c_test_pred)\n",
    "mse_s = mean_squared_error(y_s_test_true, y_s_test_pred)\n",
    "mse_t = mean_squared_error(y_test_true, y_test_pred)\n",
    "acc_t = accuracy_score(y_test_true, y_test_pred)\n",
    "\n",
    "# Accuracy doesn't tell much for individual cases, since exactly matches are not necessary needed\n",
    "print(f\"LinearRegression: Circles, MSE: {mse_c}\")\n",
    "print(f\"LinearRegression: Squares, MSE: {mse_s}\")\n",
    "print(f\"LinearRegression: Total, MSE: {mse_t}, accuracy: {acc_t}\")"
   ]
  },
  {
   "cell_type": "markdown",
   "metadata": {},
   "source": [
    "#### Logistic regression model"
   ]
  },
  {
   "cell_type": "code",
   "execution_count": 19,
   "metadata": {},
   "outputs": [
    {
     "name": "stdout",
     "output_type": "stream",
     "text": [
      "LogisticRegression: Circles, MSE: 1.94625\n",
      "LogisticRegression: Squares, MSE: 2.10625\n",
      "LogisticRegression: Total, MSE: 0.09375, accuracy: 0.90625\n"
     ]
    }
   ],
   "source": [
    "# Define model, fit and make predictions for Circles\n",
    "model_c = LogisticRegression(random_state=0, max_iter=5000, n_jobs=-1)\n",
    "# set random_state=0, to get same results; n_jobs=-1: run on all processors\n",
    "model_c.fit(X_c_train, y_c_train)\n",
    "y_c_test_pred = model_c.predict(X_c_test)\n",
    "\n",
    "# Define model, fit and make predictions for Squares\n",
    "model_s = LogisticRegression(random_state=0, max_iter=5000, n_jobs=-1)\n",
    "# set random_state=0, to get same results; n_jobs=-1: run on all processors\n",
    "model_s.fit(X_s_train, y_s_train)\n",
    "y_s_test_pred = model_s.predict(X_s_test)\n",
    "\n",
    "# Compare the predictions and create a new boolean array where True means \"more circles than squares\"\n",
    "y_test_pred = np.where(y_c_test_pred > y_s_test_pred, 1, 0)\n",
    "\n",
    "# Make predictions for true values as floats,\n",
    "# otherwise comparing cannot be done with predictions which are given as floats\n",
    "y_c_test_true = y_c_test_true.astype(float)\n",
    "y_s_test_true = y_s_test_true.astype(float)\n",
    "\n",
    "# Calculate MSE and accuracy\n",
    "mse_c = mean_squared_error(y_c_test_true, y_c_test_pred)\n",
    "mse_s = mean_squared_error(y_s_test_true, y_s_test_pred)\n",
    "mse_t = mean_squared_error(y_test_true, y_test_pred)\n",
    "acc_t = accuracy_score(y_test_true, y_test_pred)\n",
    "\n",
    "# Accuracy doesn't tell much for individual cases, since exactly matches are not necessary needed\n",
    "print(f\"LogisticRegression: Circles, MSE: {mse_c}\") \n",
    "print(f\"LogisticRegression: Squares, MSE: {mse_s}\")\n",
    "print(f\"LogisticRegression: Total, MSE: {mse_t}, accuracy: {acc_t}\")"
   ]
  },
  {
   "cell_type": "markdown",
   "metadata": {},
   "source": [
    "<ins>Comment</ins>:\n",
    "\n",
    "As can be seen with no optimization the Linear model is better and faster to compute than the Logistic regression model.\n",
    "\n",
    "Note that comparisons are made by MSE, since accuracy doesn't tell so much since close values can be okay.\n",
    "\n",
    "We will now try to optimize the Logistic regression model to see if it can be better."
   ]
  },
  {
   "cell_type": "markdown",
   "metadata": {},
   "source": [
    "##### Optimization of (hyper)parameters for the Logistic regression model\n",
    "Some issues during optimization:\n",
    "- Running out of memory with cv>2.\n",
    "- Using training set takes way too long - validation set is used."
   ]
  },
  {
   "cell_type": "code",
   "execution_count": 22,
   "metadata": {},
   "outputs": [
    {
     "name": "stdout",
     "output_type": "stream",
     "text": [
      "Fitting 2 folds for each of 12 candidates, totalling 24 fits\n",
      "-6.67 (0.17999999999999972) with: {'C': 0.1, 'solver': 'lbfgs'}\n",
      "-6.67 (0.17999999999999972) with: {'C': 0.1, 'solver': 'newton-cg'}\n",
      "-6.7787500000000005 (0.011249999999999982) with: {'C': 0.1, 'solver': 'newton-cholesky'}\n",
      "-7.157500000000001 (0.00749999999999984) with: {'C': 0.1, 'solver': 'saga'}\n",
      "-7.268750000000001 (0.16374999999999984) with: {'C': 1, 'solver': 'lbfgs'}\n",
      "-7.268750000000001 (0.16374999999999984) with: {'C': 1, 'solver': 'newton-cg'}\n",
      "-7.65625 (0.25875000000000004) with: {'C': 1, 'solver': 'newton-cholesky'}\n",
      "-8.585 (0.012500000000000178) with: {'C': 1, 'solver': 'saga'}\n",
      "-7.53 (0.05750000000000011) with: {'C': 10, 'solver': 'lbfgs'}\n",
      "-7.53 (0.05750000000000011) with: {'C': 10, 'solver': 'newton-cg'}\n",
      "-8.25875 (0.2262499999999994) with: {'C': 10, 'solver': 'newton-cholesky'}\n",
      "-14.13875 (0.7162500000000005) with: {'C': 10, 'solver': 'saga'}\n",
      "Best parameters for Circles:  {'C': 0.1, 'solver': 'lbfgs'}\n",
      "Best score for Circles:  -6.67\n",
      "Fitting 2 folds for each of 12 candidates, totalling 24 fits\n",
      "-7.143750000000001 (0.08625000000000016) with: {'C': 0.1, 'solver': 'lbfgs'}\n",
      "-7.143750000000001 (0.08625000000000016) with: {'C': 0.1, 'solver': 'newton-cg'}\n",
      "-7.203749999999999 (0.11375000000000002) with: {'C': 0.1, 'solver': 'newton-cholesky'}\n",
      "-7.28625 (0.20624999999999982) with: {'C': 0.1, 'solver': 'saga'}\n",
      "-7.633750000000001 (0.4337500000000003) with: {'C': 1, 'solver': 'lbfgs'}\n",
      "-7.633750000000001 (0.4337500000000003) with: {'C': 1, 'solver': 'newton-cg'}\n",
      "-7.66625 (0.2687499999999998) with: {'C': 1, 'solver': 'newton-cholesky'}\n",
      "-8.37875 (0.4037500000000005) with: {'C': 1, 'solver': 'saga'}\n",
      "-7.688750000000001 (0.5687500000000001) with: {'C': 10, 'solver': 'lbfgs'}\n",
      "-7.688750000000001 (0.5687500000000001) with: {'C': 10, 'solver': 'newton-cg'}\n",
      "-7.85125 (0.22875000000000023) with: {'C': 10, 'solver': 'newton-cholesky'}\n",
      "-14.056249999999999 (0.20624999999999982) with: {'C': 10, 'solver': 'saga'}\n",
      "Best parameters for Squares:  {'C': 0.1, 'solver': 'lbfgs'}\n",
      "Best score for Squares:  -7.143750000000001\n",
      "LogisticRegression: Circles, MSE: 5.49375\n",
      "LogisticRegression: Squares, MSE: 5.68875\n",
      "LogisticRegression: Total, MSE: 0.135, accuracy: 0.865\n"
     ]
    }
   ],
   "source": [
    "# Define the parameter grid to search over\n",
    "param_grid = {\n",
    "    #C:\n",
    "    # High value: Tells the model to give high weight to the training data, and a lower weight to the complexity penalty.\n",
    "    # Low value: Give more weight to this complexity penalty at the expense of fitting to the training data.\n",
    "    # Basically, a high C means \"Trust this training data a lot\", while a low value says\n",
    "    # \"This data may not be fully representative of the real world data, so if it's telling you to make a parameter really large, don't listen to it\".\n",
    "    #'penalty': ['l1', 'l2'],\n",
    "    'C': [0.1, 1, 10],\n",
    "    # solvers not tested due to:\n",
    "    # liblinear: for small datasets;\n",
    "    # sag: \"version 2\" is used instad, 'saga'\n",
    "    'solver': ['lbfgs', 'newton-cg', 'newton-cholesky', 'saga'] \n",
    "}\n",
    "\n",
    "# Define model, set random state for reproducibility\n",
    "model_c = LogisticRegression(random_state=0, max_iter=5000, n_jobs=-1)\n",
    "\n",
    "# Create Grid Search object\n",
    "grid_search_c = GridSearchCV(model_c, param_grid, cv=2, scoring='neg_mean_squared_error', n_jobs=-1, verbose=10)\n",
    "# cv=3: 3-fold cross validation, n_jobs=-1: run on all processors\n",
    "\n",
    "# Fit the Grid Search object to the data\n",
    "grid_result = grid_search_c.fit(X_c_vali, y_c_vali)\n",
    "\n",
    "means = grid_result.cv_results_['mean_test_score']\n",
    "stds = grid_result.cv_results_['std_test_score']\n",
    "params = grid_result.cv_results_['params']\n",
    "for mean, stdev, param in zip(means, stds, params):\n",
    "    print(f\"{mean} ({stdev}) with: {param}\")\n",
    "\n",
    "# Get the best parameters and the best score\n",
    "print(\"Best parameters for Circles: \", grid_search_c.best_params_)\n",
    "print(\"Best score for Circles: \", grid_search_c.best_score_)\n",
    "\n",
    "# Use the best parameters to train the model and make predictions\n",
    "model_c = grid_search_c.best_estimator_\n",
    "y_c_test_pred = model_c.predict(X_c_test)\n",
    "\n",
    "# Define model, set random state for reproducibility\n",
    "model_s = LogisticRegression(random_state=0, max_iter=5000, n_jobs=-1)\n",
    "\n",
    "# Create Grid Search object\n",
    "grid_search_s = GridSearchCV(model_s, param_grid, cv=2, scoring='neg_mean_squared_error', n_jobs=-1, verbose=10)\n",
    "# cv=3: 3-fold cross validation\n",
    "# n_jobs=-1: run on all processors\n",
    "# verbose=10: showing progress\n",
    "\n",
    "# Fit the Grid Search object to the data\n",
    "grid_result = grid_search_s.fit(X_s_vali, y_s_vali)\n",
    "\n",
    "means = grid_result.cv_results_['mean_test_score']\n",
    "stds = grid_result.cv_results_['std_test_score']\n",
    "params = grid_result.cv_results_['params']\n",
    "for mean, stdev, param in zip(means, stds, params):\n",
    "    print(f\"{mean} ({stdev}) with: {param}\")\n",
    "\n",
    "# Get the best parameters and the best score\n",
    "print(\"Best parameters for Squares: \", grid_search_s.best_params_)\n",
    "print(\"Best score for Squares: \", grid_search_s.best_score_)\n",
    "\n",
    "# Use the best parameters to train the model and make predictions\n",
    "model_s = grid_search_s.best_estimator_\n",
    "y_s_test_pred = model_s.predict(X_s_test)\n",
    "\n",
    "# Compare the predictions and create a new boolean array where True means \"more circles than squares\"\n",
    "y_test_pred = np.where(y_c_test_pred > y_s_test_pred, 1, 0)\n",
    "\n",
    "# Make predictions for true values as floats,\n",
    "# otherwise comparing cannot be done with predictions which are given as floats\n",
    "y_c_test_true = y_c_test_true.astype(float)\n",
    "y_s_test_true = y_s_test_true.astype(float)\n",
    "\n",
    "# Calculate MSE and accuracy\n",
    "mse_c = mean_squared_error(y_c_test_true, y_c_test_pred)\n",
    "mse_s = mean_squared_error(y_s_test_true, y_s_test_pred)\n",
    "mse_t = mean_squared_error(y_test_true, y_test_pred)\n",
    "acc_t = accuracy_score(y_test_true, y_test_pred)\n",
    "\n",
    "# Accuracy doesn't tell much for individual cases, since exactly matches are not necessary needed\n",
    "print(f\"LogisticRegression: Circles, MSE: {mse_c}\") \n",
    "print(f\"LogisticRegression: Squares, MSE: {mse_s}\")\n",
    "print(f\"LogisticRegression: Total, MSE: {mse_t}, accuracy: {acc_t}\")"
   ]
  },
  {
   "cell_type": "markdown",
   "metadata": {},
   "source": [
    "<ins>Comment</ins>:\n",
    "\n",
    "No improvement sees to be made with optimation of hyperparameters.\n",
    "\n",
    "We stick to the Linear Regression model."
   ]
  },
  {
   "cell_type": "markdown",
   "metadata": {},
   "source": [
    "### E: Unlabelled data evaluation\n",
    "\n",
    "You should download the unlabeled test data from https://www.kaggle.com/competitions/ds2023-counting-stars/data <br/>\n",
    "and make predictions for all of the unlabeled images in the test set.<br/>\n",
    "You can submit your best predictions to Kaggle three times/day.\n",
    "\n",
    "The course responsible has submitted a naive baseline and we're sure you can beat that score!<br/>\n",
    "This programming exercise is considered passed if you achieve  $\\text{Score} \\ge 0.90$ on the leaderboard."
   ]
  },
  {
   "cell_type": "code",
   "execution_count": 21,
   "metadata": {},
   "outputs": [],
   "source": [
    "# Load the test data\n",
    "test_data = np.load('data/stars_test_X.npz')\n",
    "X_test_unlabeled = test_data['X_test']\n",
    "\n",
    "X_c = np.copy(X_test_unlabeled)\n",
    "X_s = np.copy(X_test_unlabeled)\n",
    "\n",
    "for i in range(len(X_test_unlabeled)):\n",
    "    X_c[i] = get_shape(X_c[i], Shape.Circles)\n",
    "    X_s[i] = get_shape(X_s[i], Shape.Squares)\n",
    "\n",
    "# Make predictions    \n",
    "y_c_pred = model_c.predict(X_c)\n",
    "y_s_pred = model_s.predict(X_s)\n",
    "\n",
    "# Compare predictions - create boolean array\n",
    "#   True: More circles than squares\n",
    "#   False: More squares than circles\n",
    "y_pred = y_c_pred > y_s_pred\n",
    "\n",
    "output_file = \"prediction.csv\"\n",
    "\n",
    "# DO NOT INSERT OR CHANGE ANYTHING BELOW\n",
    "import numpy as np\n",
    "# Use this function to save your predictions on stars_test_X.npz to a \"prediction.csv\" file.\n",
    "# The produced csv file can be directly uploaded to Kaggle for evaluation.\n",
    "def y_pred_to_kaggle_format (y_pred : np.ndarray) -> None:\n",
    "    np.c_[np.arange(1, len(y_pred)+1), y_pred]\n",
    "    np.savetxt(output_file, np.c_[np.arange(1, len(y_pred)+1), y_pred], fmt='%i', delimiter=\",\", header=\"Id,Category\", comments='')\n",
    "\n",
    "y_pred_to_kaggle_format(y_pred)\n",
    "\n",
    "# NOW YOU CAN UPLOAD THE prediction.csv FILE TO KAGGLE AND SEE YOUR ACCURACY"
   ]
  },
  {
   "cell_type": "markdown",
   "metadata": {},
   "source": [
    "### Written Questions\n",
    "\n",
    "2a) Explain the different techniques and their purpose in your code for Programming Exercise D.\n",
    "\n",
    "2b) Which techniques were not useful in improving performance on this task?"
   ]
  },
  {
   "cell_type": "markdown",
   "metadata": {
    "tags": []
   },
   "source": [
    "#### Answers:\n",
    "\n",
    "2a) Explanation of the techniques:\n",
    "The most important thing in the exercise was to remove noise in the image. We did this by removing all features smaller than 4 pixels, as you cannot distinguish between than square otherwise.<br/>\n",
    "After that we split the data set as usual into training, validation and test set. These tree sets were then further split into two by sorting squares away from one and circles away from the other. That way, we only have squares in one and only circles in the other. This was done simply by sorting by color, as circles have pixel values of 2 and squares of 1.<br/>\n",
    "Now we made two models one for counting circles and one for counting squares. And the output (predictions) from the two could then be compared - \"are there more circles than squares\".\n",
    "\n",
    "2b) The following was not a success:\n",
    "- Just do the model on the image as is (naive solution)\n",
    "- Using only one model (naive solution)\n",
    "- Setting shapes (features) to one pixel (and two if overlap, and so on)"
   ]
  }
 ],
 "metadata": {
  "kernelspec": {
   "display_name": "ku-env-kernel",
   "language": "python",
   "name": "ku-env-kernel"
  },
  "language_info": {
   "codemirror_mode": {
    "name": "ipython",
    "version": 3
   },
   "file_extension": ".py",
   "mimetype": "text/x-python",
   "name": "python",
   "nbconvert_exporter": "python",
   "pygments_lexer": "ipython3",
   "version": "3.11.0"
  },
  "vscode": {
   "interpreter": {
    "hash": "369f2c481f4da34e4445cda3fffd2e751bd1c4d706f27375911949ba6bb62e1c"
   }
  }
 },
 "nbformat": 4,
 "nbformat_minor": 4
}
