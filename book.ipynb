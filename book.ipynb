{
 "cells": [
  {
   "cell_type": "markdown",
   "metadata": {},
   "source": [
    "# Exercise 3: Learning from Data\n",
    "\n",
    "In this exercise, you will train different types of regression and classification models on two datasets. You will be graded based on a combination of your code producing the expected results, your written responses to the questions and a passing leaderboard score in the final exercise."
   ]
  },
  {
   "attachments": {},
   "cell_type": "markdown",
   "metadata": {},
   "source": [
    "## Library used"
   ]
  },
  {
   "cell_type": "code",
   "execution_count": 66,
   "metadata": {},
   "outputs": [],
   "source": [
    "import numpy as np\n",
    "from sklearn import datasets\n",
    "import matplotlib.pyplot as plt\n",
    "from sklearn.model_selection import train_test_split\n",
    "from sklearn.metrics import mean_squared_error, accuracy_score\n",
    "from sklearn.linear_model import LinearRegression\n",
    "from sklearn.linear_model import LogisticRegression"
   ]
  },
  {
   "cell_type": "markdown",
   "metadata": {},
   "source": [
    "### 3.1 Linear / Logistic Regression for digit recognition\n",
    "\n",
    "In this part you will experiment with two different types of prediction models, and qualitatively + quantitatively compare them. You will be working with the classic MNIST dataset, which we can load from `sklearn.datasets`."
   ]
  },
  {
   "cell_type": "code",
   "execution_count": 67,
   "metadata": {},
   "outputs": [],
   "source": [
    "# Importing the dataset\n",
    "digits = datasets.load_digits()\n",
    "\n",
    "#https://scikit-learn.org/stable/modules/generated/sklearn.datasets.load_digits.html\n",
    "#Returns an Bunch data-structure, where we are going to use:\n",
    "#  - target: classification target [ndarray of shape (1797,)]\n",
    "#  - images: raw image data [ndarray of shape (1797, 8, 8)]"
   ]
  },
  {
   "cell_type": "markdown",
   "metadata": {},
   "source": [
    "Here we plot the first few digits and their labels. Apparently they are in order, but our upcoming models will not rely on this."
   ]
  },
  {
   "cell_type": "code",
   "execution_count": 68,
   "metadata": {},
   "outputs": [
    {
     "data": {
      "image/png": "[encoded data removed]",
      "text/plain": [
       "<Figure size 1500x300 with 12 Axes>"
      ]
     },
     "metadata": {},
     "output_type": "display_data"
    }
   ],
   "source": [
    "# Create a single row with 12 subplots of equal size\n",
    "_, axes = plt.subplots(nrows=1, ncols=12, figsize=(15, 3))\n",
    "# zip() takes iterables (sets), combine them in a tuple, and returns it.\n",
    "# we plot each of the digits in the subplots\n",
    "for ax, image, label in zip(axes, digits.images, digits.target):\n",
    "    ax.set_axis_off()\n",
    "    ax.imshow(image, cmap=plt.cm.gray_r, interpolation=\"nearest\")\n",
    "    ax.set_title(\"Label: %i\" % label)"
   ]
  },
  {
   "cell_type": "markdown",
   "metadata": {},
   "source": [
    "### A: Warmup Exercise\n",
    "\n",
    "Use the `train_test_split` function from `sklearn.model_selection` twice to split the data into train, validation, and test sets, with a distribution of 80%, 10%, and 10% respectively. Use `random_state=0` for reproducibility.\n",
    "Check out the documentation to figure out how to set the parameters to get the desired split. "
   ]
  },
  {
   "cell_type": "code",
   "execution_count": 69,
   "metadata": {},
   "outputs": [],
   "source": [
    "# We are going to split the data in 80:10:10 for train:vali:test dataset:\n",
    "train_size = 0.8\n",
    "\n",
    "# Split data into train and remaining sets:\n",
    "X_train, X_rem, y_train, y_rem = train_test_split(digits.data, digits.target, train_size=train_size, random_state=0)\n",
    "\n",
    "# Split the remaining set into vali and test sets:\n",
    "test_size = 0.5\n",
    "X_vali, X_test, y_vali, y_test = train_test_split(X_rem, y_rem, test_size=test_size, random_state=0)"
   ]
  },
  {
   "attachments": {},
   "cell_type": "markdown",
   "metadata": {},
   "source": [
    "<br><ins>Comment</ins>:<br/>\n",
    "We use the train_test_split function twice, first to split the data into a training set and a remaining set, with a training size of 0.8 (=80%), and then to split the remaining set into a validation- and a test set, with a test size of 0.5 (meaning 10% each). We use the random_state parameter with a value of 0 to ensure reproducibility of the split. Finally, we print the sizes of the resulting train, validation, and test sets."
   ]
  },
  {
   "cell_type": "markdown",
   "metadata": {},
   "source": [
    "Now let's check out the returned training data, which is of the type `numpy.ndarray`, which you might have seen already. We want to make sure the classes are balanced, e.g. we don't have a lot more 4's than 5's.\n",
    " - How many images do we have for the train, validation, and test sets?\n",
    " - What is the distribution of the training labels? Comment on whether the classes are balanced."
   ]
  },
  {
   "cell_type": "code",
   "execution_count": 70,
   "metadata": {},
   "outputs": [
    {
     "name": "stdout",
     "output_type": "stream",
     "text": [
      "Total number of images: 1797\n",
      "Number of training images: 1437\n",
      "Number of validation images: 180\n",
      "Number of test images: 180\n",
      "\n",
      "Class 0 count: 151\n",
      "Class 1 count: 147\n",
      "Class 2 count: 141\n",
      "Class 3 count: 154\n",
      "Class 4 count: 151\n",
      "Class 5 count: 142\n",
      "Class 6 count: 137\n",
      "Class 7 count: 140\n",
      "Class 8 count: 135\n",
      "Class 9 count: 139\n",
      "\n",
      "Classes are not balanced.\n"
     ]
    }
   ],
   "source": [
    "# Print the number of images in each sets:\n",
    "print(f\"Total number of images: {len(digits.target)}\")\n",
    "print(f\"Number of training images: {y_train.shape[0]}\")\n",
    "print(f\"Number of validation images: {y_vali.shape[0]}\")\n",
    "print(f\"Number of test images: {y_test.shape[0]}\\n\")\n",
    "\n",
    "# Count the frequency of each class in the training data\n",
    "class_counts = np.unique(y_train, return_counts=True)\n",
    "for label, count in zip(class_counts[0], class_counts[1]):\n",
    "    print(f\"Class {label} count:\", count)\n",
    "\n",
    "# Check if the classes are balanced\n",
    "if np.all(class_counts[1][0] == class_counts[1]):\n",
    "    print(\"\\nClasses are balanced.\")\n",
    "else:\n",
    "    print(\"\\nClasses are not balanced.\")"
   ]
  },
  {
   "cell_type": "markdown",
   "metadata": {},
   "source": [
    "### B: Programming Exercise\n",
    "\n",
    "Let's build a model that learns to predict the digit given the image. We'll first try our hand at linear regression. We will use the `LinearRegression` class from `sklearn.linear_model`. Again, check out the documentation on how to use it. We will use the `fit` method to train the model, and the `predict` method to make predictions on the test set.\n",
    "Afterwards, evaluate the model using functions from `sklearn.metrics` module."
   ]
  },
  {
   "cell_type": "code",
   "execution_count": 71,
   "metadata": {},
   "outputs": [
    {
     "name": "stdout",
     "output_type": "stream",
     "text": [
      "LinearRegression MSE:  3.004985641346828\n",
      "LinearRegression accuracy:  0.22777777777777777\n",
      "LinearRegression MSE:  3.004985641346828\n",
      "LinearRegression accuracy:  0.22777777777777777\n"
     ]
    },
    {
     "data": {
      "image/png": "[encoded data removed]",
      "text/plain": [
       "<Figure size 1000x300 with 10 Axes>"
      ]
     },
     "metadata": {},
     "output_type": "display_data"
    }
   ],
   "source": [
    "# Define the model:\n",
    "model = LinearRegression()\n",
    "\n",
    "# Fit the model:\n",
    "model.fit(X_train, y_train)\n",
    "\n",
    "# Make predictions on the test set:\n",
    "y_pred = model.predict(X_test)\n",
    "\n",
    "# Calculate mean squared error and accuracy:\n",
    "mse = mean_squared_error(y_test, y_pred)\n",
    "acc = accuracy_score(y_test, np.round(y_pred))\n",
    "\n",
    "# Print the results\n",
    "print(\"LinearRegression MSE: \", mse)\n",
    "print(\"LinearRegression accuracy: \", acc)\n",
    "\n",
    "# DO NOT INSERT OR CHANGE ANYTHING BELOW\n",
    "print(\"LinearRegression MSE: \", mse)\n",
    "print(\"LinearRegression accuracy: \", acc)\n",
    "\n",
    "_, axes = plt.subplots(nrows=1, ncols=10, figsize=(10, 3))\n",
    "for ax, image, prediction in zip(axes, X_test, y_pred):\n",
    "    ax.set_axis_off()\n",
    "    image = image.reshape(8, 8)\n",
    "    ax.imshow(image, cmap=plt.cm.gray_r, interpolation=\"nearest\")\n",
    "    ax.set_title(\"%i\" % prediction)"
   ]
  },
  {
   "cell_type": "markdown",
   "metadata": {},
   "source": [
    "### C: Programming Exercise\n",
    "\n",
    "Now, let's model the task differently.\n",
    "You will use the `LogisticRegression`, again included in the module `sklearn.linear_model`, and again, check out the documentation to see how to use it. Fit the model and make predictions on the test set. \n",
    "\n",
    "You are asked to produce output with the same structure as in the above programming exercise (two printouts and one image), but for a different model this time."
   ]
  },
  {
   "cell_type": "code",
   "execution_count": 78,
   "metadata": {},
   "outputs": [
    {
     "name": "stdout",
     "output_type": "stream",
     "text": [
      "LogisticRegression MSE:  1.1388888888888888\n",
      "LogisticRegression accuracy:  0.9611111111111111\n"
     ]
    },
    {
     "data": {
      "image/png": "[encoded data removed]",
      "text/plain": [
       "<Figure size 1000x300 with 10 Axes>"
      ]
     },
     "metadata": {},
     "output_type": "display_data"
    }
   ],
   "source": [
    "# Train a logistic regression model:\n",
    "model = LogisticRegression(random_state=0, max_iter=5000)\n",
    "model.fit(X_train, y_train)\n",
    "\n",
    "# Make predictions on the test set:\n",
    "y_pred = model.predict(X_test)\n",
    "\n",
    "# Calculate the mean squared error and accuracy:\n",
    "mse = mean_squared_error(y_test, y_pred)\n",
    "acc = accuracy_score(y_test, y_pred)\n",
    "\n",
    "# Print the results:\n",
    "print(\"LogisticRegression MSE: \", mse)\n",
    "print(\"LogisticRegression accuracy: \", acc)\n",
    "\n",
    "# Plot some test images with their predicted labels:\n",
    "_, axes = plt.subplots(nrows=1, ncols=10, figsize=(10, 3))\n",
    "for ax, image, prediction in zip(axes, X_test, y_pred):\n",
    "    ax.set_axis_off()\n",
    "    image = image.reshape(8, 8)\n",
    "    ax.imshow(image, cmap=plt.cm.gray_r, interpolation=\"nearest\")\n",
    "    ax.set_title(\"%i\" % prediction)"
   ]
  },
  {
   "cell_type": "markdown",
   "metadata": {},
   "source": [
    "### Written Questions"
   ]
  },
  {
   "cell_type": "markdown",
   "metadata": {},
   "source": [
    "1a) Describe the trends you observe in the results. Is there anything interesting or unexpected? \n",
    "\n",
    "1b) How do the results compare to the linear regression model? \n",
    "\n",
    "1c) What do you think is the reason for this?"
   ]
  },
  {
   "attachments": {},
   "cell_type": "markdown",
   "metadata": {},
   "source": [
    "#### Answers:\n",
    "TODO!!\n",
    "\n",
    "a) I was needed to increase the max iterations to >3000, otherwise it was stopping proccesing the images.\n",
    "\n",
    "b) For the logistic regression model, we observe that the MSE is much smaller than that of the linear regression model. Additionally, the accuracy is 0.98, which is higher than the accuracy for the linear regression model. This indicates that the logistic regression model is performing much better at predicting the test data compared to the linear regression model.\n",
    "\n",
    "c) The reason for this is that logistic regression is a classification algorithm that is better suited for the task of predicting discrete values such as the digits in our dataset, whereas linear regression is better suited for predicting continuous values. Additionally, logistic regression uses a sigmoid function to map inputs to outputs, which allows for probabilistic predictions, whereas linear regression does not."
   ]
  },
  {
   "cell_type": "markdown",
   "metadata": {},
   "source": [
    "## Exercise 3.2: Counting stars"
   ]
  },
  {
   "cell_type": "markdown",
   "metadata": {},
   "source": [
    "Your team is tasked with applying data science and machine learning techniques to some recently collected telescope image data. The telescope takes low resolution images, in which stars either appear as squares or circles. Your task is to train a classifier to determine whether there are more circular stars than square stars in each image. The budget is tight this year so there are no resources available to train expensive deep neural networks; you will need to train a linear or logistic regression classifier instead.\n",
    "\n",
    "You are encouraged to be creative, and to try out different things empirically, too. Preprocessing could be crucial to the success of your model. Good luck!\n",
    "\n",
    "Below is a sample of the data you'll be working with. Above each image is the label, which shows the number of circular and square stars, respectively. We do not count the small noisy background stars. \n",
    "\n",
    "![](sample.png)"
   ]
  },
  {
   "cell_type": "markdown",
   "metadata": {},
   "source": [
    "### D: Programming Exercise\n",
    "\n",
    "1. Create an account on Kaggle to collect the data https://www.kaggle.com/competitions/ds2023-counting-stars/. Use your real name, or tell us your Kaggle username, so we can grade you.\n",
    "2. Download the training data from https://www.kaggle.com/competitions/ds2023-counting-stars/data. Check out the Dataset Description for more information about the data and your task.\n",
    "2. Load the training data file `stars_train_X_y.npz` and split it into `train`, `val`, and `test` splits.\n",
    "3. Use a linear or logistic regression model to fit the `train` data. Use the `val` and `test` splits for model selection and hyperparameter optimization. (You should measure performance using accuracy)."
   ]
  },
  {
   "attachments": {},
   "cell_type": "markdown",
   "metadata": {},
   "source": [
    "#### Kaggle Username: HenrikDC"
   ]
  },
  {
   "cell_type": "code",
   "execution_count": 73,
   "metadata": {},
   "outputs": [],
   "source": [
    "# YOUR CODE HERE\n",
    "# >"
   ]
  },
  {
   "cell_type": "markdown",
   "metadata": {},
   "source": [
    "### E: Unlabelled data evaluation\n",
    "\n",
    "You should download the unlabeled test data from https://www.kaggle.com/competitions/ds2023-counting-stars/data and make predictions for all of the unlabeled images in the test set. You can submit your best predictions to Kaggle three times/day.\n",
    "\n",
    "The course responsible has submitted a naive baseline and we're sure you can beat that score! This programming exercise is considered passed if you achieve  $\\text{Score} \\ge 0.90$ on the leaderboard."
   ]
  },
  {
   "cell_type": "code",
   "execution_count": 74,
   "metadata": {},
   "outputs": [],
   "source": [
    "# LOAD THE TEST SET AND MAKE PREDICTIONS. ASSIGN THE PREDICTIONS TO THE VARIABLE y_pred.\n",
    "# >\n",
    "\n",
    "output_file = \"prediction.csv\"\n",
    "# DO NOT INSERT OR CHANGE ANYTHING BELOW\n",
    "import numpy as np\n",
    "# Use this function to save your predictions on stars_test_X.npz to a \"prediction.csv\" file.\n",
    "# The produced csv file can be directly uploaded to Kaggle for evaluation.\n",
    "def y_pred_to_kaggle_format (y_pred : np.ndarray) -> None:\n",
    "    np.c_[np.arange(1, len(y_pred)+1), y_pred]\n",
    "    np.savetxt(output_file, np.c_[np.arange(1, len(y_pred)+1), y_pred], fmt='%i', delimiter=\",\", header=\"Id,Category\", comments='')\n",
    "\n",
    "y_pred_to_kaggle_format(y_pred)\n",
    "\n",
    "# NOW YOU CAN UPLOAD THE prediction.csv FILE TO KAGGLE AND SEE YOUR ACCURACY"
   ]
  },
  {
   "cell_type": "markdown",
   "metadata": {},
   "source": [
    "### Written Questions\n",
    "\n",
    "2a) Explain the different techniques and their purpose in your code for Programming Exercise D.\n",
    "\n",
    "2b) Which techniques were not useful in improving performance on this task?"
   ]
  }
 ],
 "metadata": {
  "kernelspec": {
   "display_name": "ku-env-kernel",
   "language": "python",
   "name": "ku-env-kernel"
  },
  "language_info": {
   "codemirror_mode": {
    "name": "ipython",
    "version": 3
   },
   "file_extension": ".py",
   "mimetype": "text/x-python",
   "name": "python",
   "nbconvert_exporter": "python",
   "pygments_lexer": "ipython3",
   "version": "3.11.0"
  },
  "vscode": {
   "interpreter": {
    "hash": "369f2c481f4da34e4445cda3fffd2e751bd1c4d706f27375911949ba6bb62e1c"
   }
  }
 },
 "nbformat": 4,
 "nbformat_minor": 2
}
